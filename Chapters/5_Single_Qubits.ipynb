{
 "cells": [
  {
   "cell_type": "markdown",
   "metadata": {},
   "source": [
    "# 5 Single Qubits \n",
    "\n",
    "## 5.1 The unit of information\n",
    "\n",
    "Having introduced some of the core concpts and basic mathematics to describe quantum computing, let's get started. \n",
    "\n",
    "On the many articles and news reports on quantum computing, QC is explained using the idea of qubits. This chapter will use the mathematical concepts to describe how individual qubits work. \n",
    "\n",
    "\n",
    "A qubit is a 2-level system whoose behaviour is described by quantum mechanics. The 2 levels are usually referred to as $|0>$ & $|1>$ and can be distinguished by the outcome of a measurement. For example, the spin of an electron can take two states, spin up or spin down. The polarisation of a photon can be in the vertical or horizontal directions. Both of these physical systems have been used to build quantum computers. There are many more and the details of how they work are beyond the scope of this chapter. \n",
    "\n",
    "There are two basic things that can be done with single qubits, they can store information & they can be processed to change their state. \n",
    "\n",
    "The information stored in a qubit is given by it's quantum state. In this sense, the wavefunction of a qubit describes all the information contained within it. \n",
    "\n",
    "\n"
   ]
  }
 ],
 "metadata": {
  "language_info": {
   "name": "python"
  },
  "orig_nbformat": 4
 },
 "nbformat": 4,
 "nbformat_minor": 2
}
