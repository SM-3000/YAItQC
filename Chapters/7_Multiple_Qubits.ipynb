{
 "cells": [
  {
   "cell_type": "markdown",
   "metadata": {},
   "source": [
    "# 7 Multiple Qubits \n",
    "\n",
    "## 7.1 More than the Sum of its Parts\n",
    "\n",
    "If quantum computing was nothing more than a collection of qubits processed individually, there would be little point in building a quantum computer. Even classical computing requires more than operations on single bits to do even basic addition. Even more so, it is trivial to simulate a collection of qubits on a quantum computer provided they don't interact with each other. Each qubit can be described by quite simply and the collection can be processed in parallel efficiently. \n",
    "\n",
    "Being able to simulate a collection of qubits changes when they are allowed to interact with each other. What this means is the state of one qubit is dependent on the state of another qubit. It becomes imposssible to think of qubits seperately. \n",
    "\n",
    "## 7.2 \n",
    "\n",
    "\n",
    "Having qubits interact with one another allows for more complex algorithms. One qubit can control what happens to another. "
   ]
  }
 ],
 "metadata": {
  "language_info": {
   "name": "python"
  },
  "orig_nbformat": 4
 },
 "nbformat": 4,
 "nbformat_minor": 2
}
