{
 "cells": [
  {
   "attachments": {},
   "cell_type": "markdown",
   "metadata": {},
   "source": [
    "## The most powerful quantum subroutine\n",
    "\n",
    "*Mathematical analysis is as extensive as nature itself; it defines all perceptible relations, measures times, spaces, forces, temperatures: this difficult science is formed slowly, but it preserves every principle which it has once acquired; it grows and strengthens itself incessantly in the midst of the many variations and errors of the human mind. Its chief attribute is clearness; it has no marks to express confused notations. It brings together phenomena the most diverse and discovers the hidden analogies which unite them.* - Joseph Fourier, The Analytical Theory of Heat (1878) \n",
    "\n",
    "This chapter is atypical of the rest of this textbook. Here a rather lengthy historical introduction is given in an attempt to convey the power of what could be considered the most powerful quantum algorithm. It is what drives Shor's algorithm along with every other quantum algorithm with exponential scaling. \n",
    "\n",
    "## Signal processing \n",
    "\n",
    "Waves surround us. Light travels from the sun to our eyes and sound travels from vibrating objects to our ears and those two waves comprise much of our experience of reality. For both light and sound, what we are sensitive to is small changes of intensity, the power per unit area, that the complex network of our sense organs and brain are able to process and interpret as what we see and hear. In engineering, signal processing is extremely important in telecommunications and in physics there are insights we can gain about the nature of solids by performing a similar analysis. In the latter two cases, the mathematics we use to accomplish these tasks is described by various Fourier Transforms. \n",
    "\n",
    "In 1822, French mathematician, Joseph Fourier proposed a method for \n",
    "\n",
    "## Turning the Tide\n",
    "- The use of FT's to predict tides & it's effect in WW2\n",
    "## A change of perspective \n",
    "\n",
    "In quantum mechanics, the quantum Fourier transform can be used to convert between position & momentum representations of a wavefunction. \n",
    "\n",
    "## The quantum mechanical treatment\n",
    "\n",
    "## The power behind Shor's Algorithm\n"
   ]
  },
  {
   "cell_type": "code",
   "execution_count": null,
   "metadata": {},
   "outputs": [],
   "source": [
    "import numpy as np\n",
    "\n",
    "# Code to display the QFT as a matrix\n",
    "\n",
    "def display_QFT(n):\n",
    "    \"\"\"\n",
    "    Function that displays the matrix form of the QFT\n",
    "    \"\"\""
   ]
  }
 ],
 "metadata": {
  "kernelspec": {
   "display_name": "Python 3.8.5 ('base')",
   "language": "python",
   "name": "python3"
  },
  "language_info": {
   "name": "python",
   "version": "3.8.5"
  },
  "orig_nbformat": 4,
  "vscode": {
   "interpreter": {
    "hash": "ad2bdc8ecc057115af97d19610ffacc2b4e99fae6737bb82f5d7fb13d2f2c186"
   }
  }
 },
 "nbformat": 4,
 "nbformat_minor": 2
}
