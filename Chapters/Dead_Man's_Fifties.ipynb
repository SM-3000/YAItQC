{
 "cells": [
  {
   "attachments": {},
   "cell_type": "markdown",
   "metadata": {},
   "source": [
    "# Dead Man's Fifties\n",
    "\n",
    "## A quantum inspired, non-local drinking game featuring rum & fifty pence coins\n",
    "\n",
    "In chapter 1 entanglement was introduced \n"
   ]
  },
  {
   "cell_type": "code",
   "execution_count": 7,
   "metadata": {},
   "outputs": [
    {
     "name": "stdout",
     "output_type": "stream",
     "text": [
      "Using matplotlib backend: Qt5Agg\n"
     ]
    }
   ],
   "source": [
    "%matplotlib\n",
    "\n",
    "import numpy as np\n",
    "import matplotlib.pyplot as plt\n",
    "# Importing standard Qiskit libraries\n",
    "from qiskit import QuantumCircuit,execute, transpile, Aer, IBMQ\n",
    "from qiskit.tools.jupyter import *\n",
    "from qiskit.visualization import *\n",
    "# from ibm_quantum_widgets import *\n",
    "from qiskit.providers.aer import QasmSimulator\n",
    "from qiskit import IBMQ\n",
    "import qiskit.tools.jupyter\n",
    "plt.style.use('default')\n",
    "\n",
    "\n",
    "# Loading your IBM Quantum account(s)\n",
    "# provider = IBMQ.load_account()\n",
    "\n",
    "# IBMQ.load_account()\n",
    "\n",
    "# provider = IBMQ.get_provider(hub='ibm-q')\n",
    "# provider.backends()"
   ]
  },
  {
   "cell_type": "code",
   "execution_count": 10,
   "metadata": {},
   "outputs": [
    {
     "data": {
      "text/html": [
       "<pre style=\"word-wrap: normal;white-space: pre;background: #fff0;line-height: 1.1;font-family: &quot;Courier New&quot;,Courier,monospace\">        ┌───┐ ░       ░                      ░ ┌───┐      ░ ┌─┐               \n",
       "   q_0: ┤ H ├─░───────░──────────────────────░─┤ H ├──■───░─┤M├───────────────\n",
       "        ├───┤ ░       ░ ┌───┐     ┌───┐┌───┐ ░ └───┘┌─┴─┐ ░ └╥┘┌─┐            \n",
       "   q_1: ┤ H ├─░───────░─┤ H ├──■──┤ H ├┤ X ├─░──────┤ X ├─░──╫─┤M├────────────\n",
       "        ├───┤ ░ ┌───┐ ░ └───┘┌─┴─┐└───┘└───┘ ░      └───┘ ░  ║ └╥┘┌─┐         \n",
       "   q_2: ┤ H ├─░─┤ X ├─░──────┤ X ├───────────░────────────░──╫──╫─┤M├─────────\n",
       "        ├───┤ ░ ├───┤ ░      ├───┤           ░            ░  ║  ║ └╥┘┌─┐      \n",
       "   q_3: ┤ H ├─░─┤ X ├─░──────┤ X ├───────────░────────────░──╫──╫──╫─┤M├──────\n",
       "        ├───┤ ░ └───┘ ░ ┌───┐└─┬─┘┌───┐┌───┐ ░      ┌───┐ ░  ║  ║  ║ └╥┘┌─┐   \n",
       "   q_4: ┤ H ├─░───────░─┤ H ├──■──┤ H ├┤ X ├─░──────┤ X ├─░──╫──╫──╫──╫─┤M├───\n",
       "        ├───┤ ░       ░ └───┘     └───┘└───┘ ░ ┌───┐└─┬─┘ ░  ║  ║  ║  ║ └╥┘┌─┐\n",
       "   q_5: ┤ H ├─░───────░──────────────────────░─┤ H ├──■───░──╫──╫──╫──╫──╫─┤M├\n",
       "        └───┘ ░       ░                      ░ └───┘      ░  ║  ║  ║  ║  ║ └╥┘\n",
       "meas: 6/═════════════════════════════════════════════════════╩══╩══╩══╩══╩══╩═\n",
       "                                                             0  1  2  3  4  5 </pre>"
      ],
      "text/plain": [
       "        ┌───┐ ░       ░                      ░ ┌───┐      ░ ┌─┐               \n",
       "   q_0: ┤ H ├─░───────░──────────────────────░─┤ H ├──■───░─┤M├───────────────\n",
       "        ├───┤ ░       ░ ┌───┐     ┌───┐┌───┐ ░ └───┘┌─┴─┐ ░ └╥┘┌─┐            \n",
       "   q_1: ┤ H ├─░───────░─┤ H ├──■──┤ H ├┤ X ├─░──────┤ X ├─░──╫─┤M├────────────\n",
       "        ├───┤ ░ ┌───┐ ░ └───┘┌─┴─┐└───┘└───┘ ░      └───┘ ░  ║ └╥┘┌─┐         \n",
       "   q_2: ┤ H ├─░─┤ X ├─░──────┤ X ├───────────░────────────░──╫──╫─┤M├─────────\n",
       "        ├───┤ ░ ├───┤ ░      ├───┤           ░            ░  ║  ║ └╥┘┌─┐      \n",
       "   q_3: ┤ H ├─░─┤ X ├─░──────┤ X ├───────────░────────────░──╫──╫──╫─┤M├──────\n",
       "        ├───┤ ░ └───┘ ░ ┌───┐└─┬─┘┌───┐┌───┐ ░      ┌───┐ ░  ║  ║  ║ └╥┘┌─┐   \n",
       "   q_4: ┤ H ├─░───────░─┤ H ├──■──┤ H ├┤ X ├─░──────┤ X ├─░──╫──╫──╫──╫─┤M├───\n",
       "        ├───┤ ░       ░ └───┘     └───┘└───┘ ░ ┌───┐└─┬─┘ ░  ║  ║  ║  ║ └╥┘┌─┐\n",
       "   q_5: ┤ H ├─░───────░──────────────────────░─┤ H ├──■───░──╫──╫──╫──╫──╫─┤M├\n",
       "        └───┘ ░       ░                      ░ └───┘      ░  ║  ║  ║  ║  ║ └╥┘\n",
       "meas: 6/═════════════════════════════════════════════════════╩══╩══╩══╩══╩══╩═\n",
       "                                                             0  1  2  3  4  5 "
      ]
     },
     "execution_count": 10,
     "metadata": {},
     "output_type": "execute_result"
    }
   ],
   "source": [
    "# Reapercharge Round \n",
    "\n",
    "def dmf_circuit(Raninit = False):\n",
    "\n",
    "    Repercharge_circuit = QuantumCircuit(6)\n",
    "\n",
    "    if Raninit:\n",
    "        Repercharge_circuit.h([0,1,2,3,4,5])\n",
    "\n",
    "    Repercharge_circuit.barrier()\n",
    "    Repercharge_circuit.x([2,3])\n",
    "\n",
    "    Repercharge_circuit.barrier()\n",
    "\n",
    "    Repercharge_circuit.h([1,4])\n",
    "\n",
    "    Repercharge_circuit.cnot(1,2)\n",
    "    Repercharge_circuit.cnot(4,3)\n",
    "    Repercharge_circuit.draw()\n",
    "\n",
    "\n",
    "    Repercharge_circuit.h([1,4])\n",
    "\n",
    "    Repercharge_circuit.x([1,4])\n",
    "\n",
    "    Repercharge_circuit.barrier()\n",
    "\n",
    "    Repercharge_circuit.h([0,5])\n",
    "    Repercharge_circuit.cnot(0,1)\n",
    "    Repercharge_circuit.cnot(5,4)\n",
    "\n",
    "\n",
    "    Repercharge_circuit.measure_all()\n",
    "\n",
    "    return Repercharge_circuit\n",
    "\n",
    "# Draw the circuit\n",
    "\n",
    "qc = dmf_circuit()\n",
    "qc = dmf_circuit(True)\n",
    "\n",
    "qc.draw()"
   ]
  }
 ],
 "metadata": {
  "kernelspec": {
   "display_name": "Python 3.9.7 ('base')",
   "language": "python",
   "name": "python3"
  },
  "language_info": {
   "codemirror_mode": {
    "name": "ipython",
    "version": 3
   },
   "file_extension": ".py",
   "mimetype": "text/x-python",
   "name": "python",
   "nbconvert_exporter": "python",
   "pygments_lexer": "ipython3",
   "version": "3.9.7"
  },
  "orig_nbformat": 4,
  "vscode": {
   "interpreter": {
    "hash": "7d8cf412c429d163f0ec8962de5d99a5f7520d1b1380235674c38dc96da666cc"
   }
  }
 },
 "nbformat": 4,
 "nbformat_minor": 2
}
